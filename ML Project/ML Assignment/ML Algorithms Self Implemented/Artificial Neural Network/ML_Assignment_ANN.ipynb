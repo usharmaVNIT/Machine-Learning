{
  "nbformat": 4,
  "nbformat_minor": 0,
  "metadata": {
    "colab": {
      "name": "ML Assignment ANN.ipynb",
      "provenance": [],
      "collapsed_sections": []
    },
    "kernelspec": {
      "name": "python3",
      "display_name": "Python 3"
    },
    "language_info": {
      "name": "python"
    }
  },
  "cells": [
    {
      "cell_type": "markdown",
      "metadata": {
        "id": "TRGLCGsgqzov"
      },
      "source": [
        "#Data Preprocessing"
      ]
    },
    {
      "cell_type": "code",
      "metadata": {
        "colab": {
          "base_uri": "https://localhost:8080/",
          "height": 206
        },
        "id": "mXD6ijGxmpvM",
        "outputId": "4d6b82f6-3a2f-41eb-a716-02175777f594"
      },
      "source": [
        "import pandas as pd\n",
        "\n",
        "masses_data = pd.read_csv('/content/mammographic_masses.data.txt')\n",
        "masses_data.head()"
      ],
      "execution_count": 1,
      "outputs": [
        {
          "output_type": "execute_result",
          "data": {
            "text/html": [
              "<div>\n",
              "<style scoped>\n",
              "    .dataframe tbody tr th:only-of-type {\n",
              "        vertical-align: middle;\n",
              "    }\n",
              "\n",
              "    .dataframe tbody tr th {\n",
              "        vertical-align: top;\n",
              "    }\n",
              "\n",
              "    .dataframe thead th {\n",
              "        text-align: right;\n",
              "    }\n",
              "</style>\n",
              "<table border=\"1\" class=\"dataframe\">\n",
              "  <thead>\n",
              "    <tr style=\"text-align: right;\">\n",
              "      <th></th>\n",
              "      <th>5</th>\n",
              "      <th>67</th>\n",
              "      <th>3</th>\n",
              "      <th>5.1</th>\n",
              "      <th>3.1</th>\n",
              "      <th>1</th>\n",
              "    </tr>\n",
              "  </thead>\n",
              "  <tbody>\n",
              "    <tr>\n",
              "      <th>0</th>\n",
              "      <td>4</td>\n",
              "      <td>43</td>\n",
              "      <td>1</td>\n",
              "      <td>1</td>\n",
              "      <td>?</td>\n",
              "      <td>1</td>\n",
              "    </tr>\n",
              "    <tr>\n",
              "      <th>1</th>\n",
              "      <td>5</td>\n",
              "      <td>58</td>\n",
              "      <td>4</td>\n",
              "      <td>5</td>\n",
              "      <td>3</td>\n",
              "      <td>1</td>\n",
              "    </tr>\n",
              "    <tr>\n",
              "      <th>2</th>\n",
              "      <td>4</td>\n",
              "      <td>28</td>\n",
              "      <td>1</td>\n",
              "      <td>1</td>\n",
              "      <td>3</td>\n",
              "      <td>0</td>\n",
              "    </tr>\n",
              "    <tr>\n",
              "      <th>3</th>\n",
              "      <td>5</td>\n",
              "      <td>74</td>\n",
              "      <td>1</td>\n",
              "      <td>5</td>\n",
              "      <td>?</td>\n",
              "      <td>1</td>\n",
              "    </tr>\n",
              "    <tr>\n",
              "      <th>4</th>\n",
              "      <td>4</td>\n",
              "      <td>65</td>\n",
              "      <td>1</td>\n",
              "      <td>?</td>\n",
              "      <td>3</td>\n",
              "      <td>0</td>\n",
              "    </tr>\n",
              "  </tbody>\n",
              "</table>\n",
              "</div>"
            ],
            "text/plain": [
              "   5  67  3 5.1 3.1  1\n",
              "0  4  43  1   1   ?  1\n",
              "1  5  58  4   5   3  1\n",
              "2  4  28  1   1   3  0\n",
              "3  5  74  1   5   ?  1\n",
              "4  4  65  1   ?   3  0"
            ]
          },
          "metadata": {},
          "execution_count": 1
        }
      ]
    },
    {
      "cell_type": "code",
      "metadata": {
        "colab": {
          "base_uri": "https://localhost:8080/",
          "height": 206
        },
        "id": "K-GckSwBmptE",
        "outputId": "d7ce62dd-d3af-4a92-cd66-ec19ca38a125"
      },
      "source": [
        "masses_data = pd.read_csv('/content/mammographic_masses.data.txt', na_values=['?'], names = ['BI-RADS', 'age', 'shape', 'margin', 'density', 'severity'])\n",
        "masses_data.head()"
      ],
      "execution_count": 2,
      "outputs": [
        {
          "output_type": "execute_result",
          "data": {
            "text/html": [
              "<div>\n",
              "<style scoped>\n",
              "    .dataframe tbody tr th:only-of-type {\n",
              "        vertical-align: middle;\n",
              "    }\n",
              "\n",
              "    .dataframe tbody tr th {\n",
              "        vertical-align: top;\n",
              "    }\n",
              "\n",
              "    .dataframe thead th {\n",
              "        text-align: right;\n",
              "    }\n",
              "</style>\n",
              "<table border=\"1\" class=\"dataframe\">\n",
              "  <thead>\n",
              "    <tr style=\"text-align: right;\">\n",
              "      <th></th>\n",
              "      <th>BI-RADS</th>\n",
              "      <th>age</th>\n",
              "      <th>shape</th>\n",
              "      <th>margin</th>\n",
              "      <th>density</th>\n",
              "      <th>severity</th>\n",
              "    </tr>\n",
              "  </thead>\n",
              "  <tbody>\n",
              "    <tr>\n",
              "      <th>0</th>\n",
              "      <td>5.0</td>\n",
              "      <td>67.0</td>\n",
              "      <td>3.0</td>\n",
              "      <td>5.0</td>\n",
              "      <td>3.0</td>\n",
              "      <td>1</td>\n",
              "    </tr>\n",
              "    <tr>\n",
              "      <th>1</th>\n",
              "      <td>4.0</td>\n",
              "      <td>43.0</td>\n",
              "      <td>1.0</td>\n",
              "      <td>1.0</td>\n",
              "      <td>NaN</td>\n",
              "      <td>1</td>\n",
              "    </tr>\n",
              "    <tr>\n",
              "      <th>2</th>\n",
              "      <td>5.0</td>\n",
              "      <td>58.0</td>\n",
              "      <td>4.0</td>\n",
              "      <td>5.0</td>\n",
              "      <td>3.0</td>\n",
              "      <td>1</td>\n",
              "    </tr>\n",
              "    <tr>\n",
              "      <th>3</th>\n",
              "      <td>4.0</td>\n",
              "      <td>28.0</td>\n",
              "      <td>1.0</td>\n",
              "      <td>1.0</td>\n",
              "      <td>3.0</td>\n",
              "      <td>0</td>\n",
              "    </tr>\n",
              "    <tr>\n",
              "      <th>4</th>\n",
              "      <td>5.0</td>\n",
              "      <td>74.0</td>\n",
              "      <td>1.0</td>\n",
              "      <td>5.0</td>\n",
              "      <td>NaN</td>\n",
              "      <td>1</td>\n",
              "    </tr>\n",
              "  </tbody>\n",
              "</table>\n",
              "</div>"
            ],
            "text/plain": [
              "   BI-RADS   age  shape  margin  density  severity\n",
              "0      5.0  67.0    3.0     5.0      3.0         1\n",
              "1      4.0  43.0    1.0     1.0      NaN         1\n",
              "2      5.0  58.0    4.0     5.0      3.0         1\n",
              "3      4.0  28.0    1.0     1.0      3.0         0\n",
              "4      5.0  74.0    1.0     5.0      NaN         1"
            ]
          },
          "metadata": {},
          "execution_count": 2
        }
      ]
    },
    {
      "cell_type": "code",
      "metadata": {
        "colab": {
          "base_uri": "https://localhost:8080/",
          "height": 300
        },
        "id": "Mr7vtbVfmpqz",
        "outputId": "52f375b5-ce7d-4452-ed63-2608af9785f4"
      },
      "source": [
        "masses_data.describe()"
      ],
      "execution_count": 3,
      "outputs": [
        {
          "output_type": "execute_result",
          "data": {
            "text/html": [
              "<div>\n",
              "<style scoped>\n",
              "    .dataframe tbody tr th:only-of-type {\n",
              "        vertical-align: middle;\n",
              "    }\n",
              "\n",
              "    .dataframe tbody tr th {\n",
              "        vertical-align: top;\n",
              "    }\n",
              "\n",
              "    .dataframe thead th {\n",
              "        text-align: right;\n",
              "    }\n",
              "</style>\n",
              "<table border=\"1\" class=\"dataframe\">\n",
              "  <thead>\n",
              "    <tr style=\"text-align: right;\">\n",
              "      <th></th>\n",
              "      <th>BI-RADS</th>\n",
              "      <th>age</th>\n",
              "      <th>shape</th>\n",
              "      <th>margin</th>\n",
              "      <th>density</th>\n",
              "      <th>severity</th>\n",
              "    </tr>\n",
              "  </thead>\n",
              "  <tbody>\n",
              "    <tr>\n",
              "      <th>count</th>\n",
              "      <td>959.000000</td>\n",
              "      <td>956.000000</td>\n",
              "      <td>930.000000</td>\n",
              "      <td>913.000000</td>\n",
              "      <td>885.000000</td>\n",
              "      <td>961.000000</td>\n",
              "    </tr>\n",
              "    <tr>\n",
              "      <th>mean</th>\n",
              "      <td>4.348279</td>\n",
              "      <td>55.487448</td>\n",
              "      <td>2.721505</td>\n",
              "      <td>2.796276</td>\n",
              "      <td>2.910734</td>\n",
              "      <td>0.463059</td>\n",
              "    </tr>\n",
              "    <tr>\n",
              "      <th>std</th>\n",
              "      <td>1.783031</td>\n",
              "      <td>14.480131</td>\n",
              "      <td>1.242792</td>\n",
              "      <td>1.566546</td>\n",
              "      <td>0.380444</td>\n",
              "      <td>0.498893</td>\n",
              "    </tr>\n",
              "    <tr>\n",
              "      <th>min</th>\n",
              "      <td>0.000000</td>\n",
              "      <td>18.000000</td>\n",
              "      <td>1.000000</td>\n",
              "      <td>1.000000</td>\n",
              "      <td>1.000000</td>\n",
              "      <td>0.000000</td>\n",
              "    </tr>\n",
              "    <tr>\n",
              "      <th>25%</th>\n",
              "      <td>4.000000</td>\n",
              "      <td>45.000000</td>\n",
              "      <td>2.000000</td>\n",
              "      <td>1.000000</td>\n",
              "      <td>3.000000</td>\n",
              "      <td>0.000000</td>\n",
              "    </tr>\n",
              "    <tr>\n",
              "      <th>50%</th>\n",
              "      <td>4.000000</td>\n",
              "      <td>57.000000</td>\n",
              "      <td>3.000000</td>\n",
              "      <td>3.000000</td>\n",
              "      <td>3.000000</td>\n",
              "      <td>0.000000</td>\n",
              "    </tr>\n",
              "    <tr>\n",
              "      <th>75%</th>\n",
              "      <td>5.000000</td>\n",
              "      <td>66.000000</td>\n",
              "      <td>4.000000</td>\n",
              "      <td>4.000000</td>\n",
              "      <td>3.000000</td>\n",
              "      <td>1.000000</td>\n",
              "    </tr>\n",
              "    <tr>\n",
              "      <th>max</th>\n",
              "      <td>55.000000</td>\n",
              "      <td>96.000000</td>\n",
              "      <td>4.000000</td>\n",
              "      <td>5.000000</td>\n",
              "      <td>4.000000</td>\n",
              "      <td>1.000000</td>\n",
              "    </tr>\n",
              "  </tbody>\n",
              "</table>\n",
              "</div>"
            ],
            "text/plain": [
              "          BI-RADS         age       shape      margin     density    severity\n",
              "count  959.000000  956.000000  930.000000  913.000000  885.000000  961.000000\n",
              "mean     4.348279   55.487448    2.721505    2.796276    2.910734    0.463059\n",
              "std      1.783031   14.480131    1.242792    1.566546    0.380444    0.498893\n",
              "min      0.000000   18.000000    1.000000    1.000000    1.000000    0.000000\n",
              "25%      4.000000   45.000000    2.000000    1.000000    3.000000    0.000000\n",
              "50%      4.000000   57.000000    3.000000    3.000000    3.000000    0.000000\n",
              "75%      5.000000   66.000000    4.000000    4.000000    3.000000    1.000000\n",
              "max     55.000000   96.000000    4.000000    5.000000    4.000000    1.000000"
            ]
          },
          "metadata": {},
          "execution_count": 3
        }
      ]
    },
    {
      "cell_type": "code",
      "metadata": {
        "colab": {
          "base_uri": "https://localhost:8080/",
          "height": 424
        },
        "id": "qY2NHXwGmpom",
        "outputId": "47fcd819-b0ba-4e9a-96cf-93402a907a3c"
      },
      "source": [
        "masses_data.loc[(masses_data['age'].isnull()) |\n",
        "              (masses_data['shape'].isnull()) |\n",
        "              (masses_data['margin'].isnull()) |\n",
        "              (masses_data['density'].isnull())]"
      ],
      "execution_count": 4,
      "outputs": [
        {
          "output_type": "execute_result",
          "data": {
            "text/html": [
              "<div>\n",
              "<style scoped>\n",
              "    .dataframe tbody tr th:only-of-type {\n",
              "        vertical-align: middle;\n",
              "    }\n",
              "\n",
              "    .dataframe tbody tr th {\n",
              "        vertical-align: top;\n",
              "    }\n",
              "\n",
              "    .dataframe thead th {\n",
              "        text-align: right;\n",
              "    }\n",
              "</style>\n",
              "<table border=\"1\" class=\"dataframe\">\n",
              "  <thead>\n",
              "    <tr style=\"text-align: right;\">\n",
              "      <th></th>\n",
              "      <th>BI-RADS</th>\n",
              "      <th>age</th>\n",
              "      <th>shape</th>\n",
              "      <th>margin</th>\n",
              "      <th>density</th>\n",
              "      <th>severity</th>\n",
              "    </tr>\n",
              "  </thead>\n",
              "  <tbody>\n",
              "    <tr>\n",
              "      <th>1</th>\n",
              "      <td>4.0</td>\n",
              "      <td>43.0</td>\n",
              "      <td>1.0</td>\n",
              "      <td>1.0</td>\n",
              "      <td>NaN</td>\n",
              "      <td>1</td>\n",
              "    </tr>\n",
              "    <tr>\n",
              "      <th>4</th>\n",
              "      <td>5.0</td>\n",
              "      <td>74.0</td>\n",
              "      <td>1.0</td>\n",
              "      <td>5.0</td>\n",
              "      <td>NaN</td>\n",
              "      <td>1</td>\n",
              "    </tr>\n",
              "    <tr>\n",
              "      <th>5</th>\n",
              "      <td>4.0</td>\n",
              "      <td>65.0</td>\n",
              "      <td>1.0</td>\n",
              "      <td>NaN</td>\n",
              "      <td>3.0</td>\n",
              "      <td>0</td>\n",
              "    </tr>\n",
              "    <tr>\n",
              "      <th>6</th>\n",
              "      <td>4.0</td>\n",
              "      <td>70.0</td>\n",
              "      <td>NaN</td>\n",
              "      <td>NaN</td>\n",
              "      <td>3.0</td>\n",
              "      <td>0</td>\n",
              "    </tr>\n",
              "    <tr>\n",
              "      <th>7</th>\n",
              "      <td>5.0</td>\n",
              "      <td>42.0</td>\n",
              "      <td>1.0</td>\n",
              "      <td>NaN</td>\n",
              "      <td>3.0</td>\n",
              "      <td>0</td>\n",
              "    </tr>\n",
              "    <tr>\n",
              "      <th>...</th>\n",
              "      <td>...</td>\n",
              "      <td>...</td>\n",
              "      <td>...</td>\n",
              "      <td>...</td>\n",
              "      <td>...</td>\n",
              "      <td>...</td>\n",
              "    </tr>\n",
              "    <tr>\n",
              "      <th>778</th>\n",
              "      <td>4.0</td>\n",
              "      <td>60.0</td>\n",
              "      <td>NaN</td>\n",
              "      <td>4.0</td>\n",
              "      <td>3.0</td>\n",
              "      <td>0</td>\n",
              "    </tr>\n",
              "    <tr>\n",
              "      <th>819</th>\n",
              "      <td>4.0</td>\n",
              "      <td>35.0</td>\n",
              "      <td>3.0</td>\n",
              "      <td>NaN</td>\n",
              "      <td>2.0</td>\n",
              "      <td>0</td>\n",
              "    </tr>\n",
              "    <tr>\n",
              "      <th>824</th>\n",
              "      <td>6.0</td>\n",
              "      <td>40.0</td>\n",
              "      <td>NaN</td>\n",
              "      <td>3.0</td>\n",
              "      <td>4.0</td>\n",
              "      <td>1</td>\n",
              "    </tr>\n",
              "    <tr>\n",
              "      <th>884</th>\n",
              "      <td>5.0</td>\n",
              "      <td>NaN</td>\n",
              "      <td>4.0</td>\n",
              "      <td>4.0</td>\n",
              "      <td>3.0</td>\n",
              "      <td>1</td>\n",
              "    </tr>\n",
              "    <tr>\n",
              "      <th>923</th>\n",
              "      <td>5.0</td>\n",
              "      <td>NaN</td>\n",
              "      <td>4.0</td>\n",
              "      <td>3.0</td>\n",
              "      <td>3.0</td>\n",
              "      <td>1</td>\n",
              "    </tr>\n",
              "  </tbody>\n",
              "</table>\n",
              "<p>130 rows × 6 columns</p>\n",
              "</div>"
            ],
            "text/plain": [
              "     BI-RADS   age  shape  margin  density  severity\n",
              "1        4.0  43.0    1.0     1.0      NaN         1\n",
              "4        5.0  74.0    1.0     5.0      NaN         1\n",
              "5        4.0  65.0    1.0     NaN      3.0         0\n",
              "6        4.0  70.0    NaN     NaN      3.0         0\n",
              "7        5.0  42.0    1.0     NaN      3.0         0\n",
              "..       ...   ...    ...     ...      ...       ...\n",
              "778      4.0  60.0    NaN     4.0      3.0         0\n",
              "819      4.0  35.0    3.0     NaN      2.0         0\n",
              "824      6.0  40.0    NaN     3.0      4.0         1\n",
              "884      5.0   NaN    4.0     4.0      3.0         1\n",
              "923      5.0   NaN    4.0     3.0      3.0         1\n",
              "\n",
              "[130 rows x 6 columns]"
            ]
          },
          "metadata": {},
          "execution_count": 4
        }
      ]
    },
    {
      "cell_type": "code",
      "metadata": {
        "colab": {
          "base_uri": "https://localhost:8080/",
          "height": 300
        },
        "id": "8QZfO6SJmpmU",
        "outputId": "4e4ab30c-a85d-4665-c416-8af5fd4040be"
      },
      "source": [
        "masses_data.dropna(inplace=True)\n",
        "masses_data.describe()"
      ],
      "execution_count": 5,
      "outputs": [
        {
          "output_type": "execute_result",
          "data": {
            "text/html": [
              "<div>\n",
              "<style scoped>\n",
              "    .dataframe tbody tr th:only-of-type {\n",
              "        vertical-align: middle;\n",
              "    }\n",
              "\n",
              "    .dataframe tbody tr th {\n",
              "        vertical-align: top;\n",
              "    }\n",
              "\n",
              "    .dataframe thead th {\n",
              "        text-align: right;\n",
              "    }\n",
              "</style>\n",
              "<table border=\"1\" class=\"dataframe\">\n",
              "  <thead>\n",
              "    <tr style=\"text-align: right;\">\n",
              "      <th></th>\n",
              "      <th>BI-RADS</th>\n",
              "      <th>age</th>\n",
              "      <th>shape</th>\n",
              "      <th>margin</th>\n",
              "      <th>density</th>\n",
              "      <th>severity</th>\n",
              "    </tr>\n",
              "  </thead>\n",
              "  <tbody>\n",
              "    <tr>\n",
              "      <th>count</th>\n",
              "      <td>830.000000</td>\n",
              "      <td>830.000000</td>\n",
              "      <td>830.000000</td>\n",
              "      <td>830.000000</td>\n",
              "      <td>830.000000</td>\n",
              "      <td>830.000000</td>\n",
              "    </tr>\n",
              "    <tr>\n",
              "      <th>mean</th>\n",
              "      <td>4.393976</td>\n",
              "      <td>55.781928</td>\n",
              "      <td>2.781928</td>\n",
              "      <td>2.813253</td>\n",
              "      <td>2.915663</td>\n",
              "      <td>0.485542</td>\n",
              "    </tr>\n",
              "    <tr>\n",
              "      <th>std</th>\n",
              "      <td>1.888371</td>\n",
              "      <td>14.671782</td>\n",
              "      <td>1.242361</td>\n",
              "      <td>1.567175</td>\n",
              "      <td>0.350936</td>\n",
              "      <td>0.500092</td>\n",
              "    </tr>\n",
              "    <tr>\n",
              "      <th>min</th>\n",
              "      <td>0.000000</td>\n",
              "      <td>18.000000</td>\n",
              "      <td>1.000000</td>\n",
              "      <td>1.000000</td>\n",
              "      <td>1.000000</td>\n",
              "      <td>0.000000</td>\n",
              "    </tr>\n",
              "    <tr>\n",
              "      <th>25%</th>\n",
              "      <td>4.000000</td>\n",
              "      <td>46.000000</td>\n",
              "      <td>2.000000</td>\n",
              "      <td>1.000000</td>\n",
              "      <td>3.000000</td>\n",
              "      <td>0.000000</td>\n",
              "    </tr>\n",
              "    <tr>\n",
              "      <th>50%</th>\n",
              "      <td>4.000000</td>\n",
              "      <td>57.000000</td>\n",
              "      <td>3.000000</td>\n",
              "      <td>3.000000</td>\n",
              "      <td>3.000000</td>\n",
              "      <td>0.000000</td>\n",
              "    </tr>\n",
              "    <tr>\n",
              "      <th>75%</th>\n",
              "      <td>5.000000</td>\n",
              "      <td>66.000000</td>\n",
              "      <td>4.000000</td>\n",
              "      <td>4.000000</td>\n",
              "      <td>3.000000</td>\n",
              "      <td>1.000000</td>\n",
              "    </tr>\n",
              "    <tr>\n",
              "      <th>max</th>\n",
              "      <td>55.000000</td>\n",
              "      <td>96.000000</td>\n",
              "      <td>4.000000</td>\n",
              "      <td>5.000000</td>\n",
              "      <td>4.000000</td>\n",
              "      <td>1.000000</td>\n",
              "    </tr>\n",
              "  </tbody>\n",
              "</table>\n",
              "</div>"
            ],
            "text/plain": [
              "          BI-RADS         age       shape      margin     density    severity\n",
              "count  830.000000  830.000000  830.000000  830.000000  830.000000  830.000000\n",
              "mean     4.393976   55.781928    2.781928    2.813253    2.915663    0.485542\n",
              "std      1.888371   14.671782    1.242361    1.567175    0.350936    0.500092\n",
              "min      0.000000   18.000000    1.000000    1.000000    1.000000    0.000000\n",
              "25%      4.000000   46.000000    2.000000    1.000000    3.000000    0.000000\n",
              "50%      4.000000   57.000000    3.000000    3.000000    3.000000    0.000000\n",
              "75%      5.000000   66.000000    4.000000    4.000000    3.000000    1.000000\n",
              "max     55.000000   96.000000    4.000000    5.000000    4.000000    1.000000"
            ]
          },
          "metadata": {},
          "execution_count": 5
        }
      ]
    },
    {
      "cell_type": "markdown",
      "metadata": {
        "id": "-n_VN8f0q5im"
      },
      "source": [
        "## Extracting Features"
      ]
    },
    {
      "cell_type": "code",
      "metadata": {
        "id": "rB-xMdibmpkP"
      },
      "source": [
        "all_features = masses_data[['age', 'shape',\n",
        "                             'margin', 'density']].values\n",
        "\n",
        "\n",
        "all_classes = masses_data['severity'].values\n",
        "\n",
        "feature_names = ['age', 'shape', 'margin', 'density']\n"
      ],
      "execution_count": 6,
      "outputs": []
    },
    {
      "cell_type": "markdown",
      "metadata": {
        "id": "gCz5-191rBib"
      },
      "source": [
        "##Normalizing the data\n"
      ]
    },
    {
      "cell_type": "code",
      "metadata": {
        "colab": {
          "base_uri": "https://localhost:8080/"
        },
        "id": "bceoCoPHmphq",
        "outputId": "83f1fcb7-6aa8-43b6-f07e-ef0a3af37c3b"
      },
      "source": [
        "from sklearn import preprocessing\n",
        "\n",
        "scaler = preprocessing.StandardScaler()\n",
        "all_features_scaled = scaler.fit_transform(all_features)\n",
        "all_features_scaled"
      ],
      "execution_count": 7,
      "outputs": [
        {
          "output_type": "execute_result",
          "data": {
            "text/plain": [
              "array([[ 0.7650629 ,  0.17563638,  1.39618483,  0.24046607],\n",
              "       [ 0.15127063,  0.98104077,  1.39618483,  0.24046607],\n",
              "       [-1.89470363, -1.43517241, -1.157718  ,  0.24046607],\n",
              "       ...,\n",
              "       [ 0.56046548,  0.98104077,  1.39618483,  0.24046607],\n",
              "       [ 0.69686376,  0.98104077,  1.39618483,  0.24046607],\n",
              "       [ 0.42406719,  0.17563638,  0.11923341,  0.24046607]])"
            ]
          },
          "metadata": {},
          "execution_count": 7
        }
      ]
    },
    {
      "cell_type": "code",
      "metadata": {
        "colab": {
          "base_uri": "https://localhost:8080/"
        },
        "id": "BVDrLGN8mpfg",
        "outputId": "5061a19e-cf52-42cc-e4e9-398086d2b6c8"
      },
      "source": [
        "from tensorflow.keras.utils import to_categorical\n",
        "classes = to_categorical(all_classes)\n",
        "classes"
      ],
      "execution_count": 8,
      "outputs": [
        {
          "output_type": "execute_result",
          "data": {
            "text/plain": [
              "array([[0., 1.],\n",
              "       [0., 1.],\n",
              "       [1., 0.],\n",
              "       ...,\n",
              "       [1., 0.],\n",
              "       [0., 1.],\n",
              "       [1., 0.]], dtype=float32)"
            ]
          },
          "metadata": {},
          "execution_count": 8
        }
      ]
    },
    {
      "cell_type": "markdown",
      "metadata": {
        "id": "Ubzg0Qktq8cK"
      },
      "source": [
        "##Train-Test Split"
      ]
    },
    {
      "cell_type": "code",
      "metadata": {
        "id": "GN0yJaNTmpY9"
      },
      "source": [
        "import numpy\n",
        "from sklearn.model_selection import train_test_split\n",
        "\n",
        "numpy.random.seed(1234)\n",
        "\n",
        "(training_inputs,\n",
        " testing_inputs,\n",
        " training_classes,\n",
        " testing_classes) = train_test_split(all_features_scaled, classes, train_size=0.75, random_state=1)"
      ],
      "execution_count": 9,
      "outputs": []
    },
    {
      "cell_type": "code",
      "metadata": {
        "id": "_p5GENt0kbI-"
      },
      "source": [
        "import numpy as np\n",
        "from numpy import exp\n",
        "np.random.seed(0)\n"
      ],
      "execution_count": 10,
      "outputs": []
    },
    {
      "cell_type": "markdown",
      "metadata": {
        "id": "SS49aMfIkgLP"
      },
      "source": [
        "##Class representing a linear layer having n_inp neurons as input and n_out neurons as output"
      ]
    },
    {
      "cell_type": "code",
      "metadata": {
        "id": "GXGL7DpBkfR7"
      },
      "source": [
        "class Linearlayer():\n",
        "    def __init__(self,n_inp,n_out):\n",
        "        self.weights = np.random.randn(n_inp,n_out)\n",
        "        self.bias = np.zeros((1,n_out))\n",
        "    def forward(self,inputs):\n",
        "        self.output = np.dot(inputs,self.weights) + self.bias\n"
      ],
      "execution_count": 11,
      "outputs": []
    },
    {
      "cell_type": "markdown",
      "metadata": {
        "id": "rEryO3gFk_zb"
      },
      "source": [
        "##Neural Network"
      ]
    },
    {
      "cell_type": "code",
      "metadata": {
        "id": "ofAVTDxkksZv"
      },
      "source": [
        "class NeuralNet():\n",
        "    def __init__(self,n_inp,n_out,alpha):\n",
        "        self.inp = n_inp\n",
        "        self.out = n_out\n",
        "        self.hidd_no1 = 60\n",
        "        self.hidd_no2 = 80\n",
        "        self.alpha = alpha\n",
        "        self.error = 1\n",
        "        self.layer1 = Linearlayer(n_inp,self.hidd_no1)\n",
        "        self.layer2 = Linearlayer(self.hidd_no1,self.hidd_no2)\n",
        "        self.layer3 = Linearlayer(self.hidd_no2,n_out)\n",
        "        \n",
        "    # sigmoid activation function\n",
        "    def act_fun(self,x):\n",
        "        return 1/(1+exp(-x))\n",
        "    # derivation of sigmoid function\n",
        "    def der_act_fun(self,x):\n",
        "        x = self.act_fun(x)\n",
        "        return x*(1-x)\n",
        "    # forward pass through the network\n",
        "    def forward(self,input_set):\n",
        "        self.input_set = input_set\n",
        "        self.layer1.forward(input_set)\n",
        "        # applying activation function after layer1 pass\n",
        "        self.inp_hidden1 = self.act_fun(self.layer1.output)\n",
        "        # applying activation function after layer2 pass\n",
        "        self.layer2.forward(self.inp_hidden1)\n",
        "        self.inp_hidden2 = self.act_fun(self.layer2.output)\n",
        "        self.layer3.forward(self.inp_hidden2)\n",
        "        # applying activation function after layer3 pass\n",
        "        self.fout = self.act_fun(self.layer3.output)\n",
        "        return self.fout\n",
        "    # This is the main function from which neural network will learn\n",
        "    def learn(self,input_set,output_set):\n",
        "        nnout = self.forward(input_set)\n",
        "#         print(\"output is - \",nnout)\n",
        "        self.error = 0\n",
        "        for i in range(len(output_set)):\n",
        "            self.error+=(output_set[i]-nnout[0][i])**2\n",
        "        self.error/=2\n",
        "        # print(\"error - \",self.error)\n",
        "\n",
        "\n",
        "        # Backpropogating the error\n",
        "        self.backpropgatel1(output_set)\n",
        "        self.backpropgatel2()\n",
        "        self.backpropgatel3()\n",
        "\n",
        "      # backpropogate through layer1\n",
        "    def backpropgatel1(self,output):\n",
        "        self.errorhid1 = []\n",
        "        xins = self.inp_hidden2[0]\n",
        "        yout = self.fout[0]\n",
        "        yins = self.layer3.output[0]\n",
        "        for i in range(len(xins)):\n",
        "            for j in range(len(yout)):\n",
        "                diff = -1*(output[j]-yout[j])*self.der_act_fun(yins[j])\n",
        "                chw = diff*xins[i]\n",
        "#                 print(\"chw at \",i,j,\" is\",chw)\n",
        "                self.errorhid1.append(diff)\n",
        "                self.layer3.weights[i][j]-= self.alpha*chw\n",
        "        for j in range(len(yout)):\n",
        "            self.layer3.bias[0][j]-=self.alpha*self.errorhid1[j]\n",
        "      \n",
        "      \n",
        "      # backpropogate through layer2\n",
        "    def backpropgatel2(self):\n",
        "        self.errorhid2 = []\n",
        "        for i in range(self.hidd_no1):\n",
        "            for j in range(self.hidd_no2):\n",
        "                cng = 0\n",
        "                for k in range(len(self.layer3.weights[j])):\n",
        "                    cng += self.errorhid1[k]*self.layer3.weights[j][k]\n",
        "                diff = cng*self.der_act_fun(self.layer2.output[0][j])\n",
        "                self.errorhid2.append(diff)\n",
        "                cng=diff*self.inp_hidden1[0][i]\n",
        "                self.layer2.weights[i][j]-=self.alpha*cng\n",
        "        \n",
        "        for j in range(self.hidd_no2):\n",
        "            self.layer2.bias[0][j]-=self.alpha*self.errorhid2[j]\n",
        "            \n",
        "\n",
        "\n",
        "    # backpropogate through layer3\n",
        "    def backpropgatel3(self):\n",
        "        self.errorhid3 = []\n",
        "        for i in range(self.inp):\n",
        "            for j in range(self.hidd_no1):\n",
        "                cng = 0\n",
        "                for k in range(len(self.layer2.weights[j])):\n",
        "                    cng+=self.errorhid2[k]*self.layer2.weights[j][k]\n",
        "                diff = cng*self.der_act_fun(self.layer1.output[0][j])\n",
        "                self.errorhid3.append(diff)\n",
        "                cng = diff*self.input_set[i]\n",
        "                self.layer1.weights[i][j]-=self.alpha*cng\n",
        "            for j in range(self.hidd_no1):\n",
        "                self.layer1.bias[0][j]-=self.alpha*self.errorhid3[j]\n",
        "\n",
        "\n",
        "    \n",
        "    def predict(self , features):\n",
        "        lst = list(self.forward(features)[0])\n",
        "        index = lst.index(max(lst))\n",
        "        return index\n",
        "\n",
        "    def percentage_classes(self):\n",
        "      lst = list(self.fout[0])\n",
        "      per = []\n",
        "      smx = 0\n",
        "      for e in lst:\n",
        "        smx+=exp(-e)\n",
        "      for e in lst:\n",
        "        pro = exp(-e)/smx\n",
        "        per.append(pro)\n",
        "      print(pro)\n",
        "      return pro\n",
        "\n",
        "                \n",
        "                \n",
        "        "
      ],
      "execution_count": 12,
      "outputs": []
    },
    {
      "cell_type": "markdown",
      "metadata": {
        "id": "qK5VJp0brLWv"
      },
      "source": [
        "##Neural Network with learning rate 0.1\n",
        "here hidden params are fixed and can be changed in the class Neural Network\n",
        "This is a 3 layer Network"
      ]
    },
    {
      "cell_type": "code",
      "metadata": {
        "id": "7FXqGg4ooFEr"
      },
      "source": [
        "net = NeuralNet(4 , 2 , 0.1)"
      ],
      "execution_count": 13,
      "outputs": []
    },
    {
      "cell_type": "markdown",
      "metadata": {
        "id": "aKKonthDroXX"
      },
      "source": [
        "###Training the neural network"
      ]
    },
    {
      "cell_type": "code",
      "metadata": {
        "colab": {
          "base_uri": "https://localhost:8080/"
        },
        "id": "7BREfuJ0lso2",
        "outputId": "70895b0b-e9e4-4dbf-d3bf-9cfd6a0e7b4d"
      },
      "source": [
        "size = training_inputs.shape[0]\n",
        "error = 0\n",
        "count = 0\n",
        "lmt = size//4\n",
        "epochs = 10\n",
        "for epoch in range(epochs):\n",
        "  print(\"Epoch : \" , epoch+1)\n",
        "  for row,label in zip(training_inputs , training_classes):\n",
        "    net.learn(row , label)\n",
        "    error += net.error\n",
        "    count+=1\n",
        "    if count%lmt==0:\n",
        "      print(count/size*100 , '%')\n",
        "      print(\"\\terror = \",error/count)\n",
        "\n"
      ],
      "execution_count": 14,
      "outputs": [
        {
          "output_type": "stream",
          "name": "stdout",
          "text": [
            "Epoch :  1\n",
            "24.919614147909968 %\n",
            "\terror =  0.37316295267838945\n",
            "49.839228295819936 %\n",
            "\terror =  0.36008832862347684\n",
            "74.7588424437299 %\n",
            "\terror =  0.35166936979722285\n",
            "99.67845659163987 %\n",
            "\terror =  0.34444274012584397\n",
            "Epoch :  2\n",
            "124.59807073954985 %\n",
            "\terror =  0.34356471086692353\n",
            "149.5176848874598 %\n",
            "\terror =  0.3408034052424848\n",
            "174.43729903536976 %\n",
            "\terror =  0.31785406503720737\n",
            "199.35691318327974 %\n",
            "\terror =  0.299334635703704\n",
            "Epoch :  3\n",
            "224.2765273311897 %\n",
            "\terror =  0.28670935999488634\n",
            "249.1961414790997 %\n",
            "\terror =  0.2750164797112357\n",
            "274.11575562700966 %\n",
            "\terror =  0.2597799368104917\n",
            "299.0353697749196 %\n",
            "\terror =  0.2526591118364677\n",
            "Epoch :  4\n",
            "323.95498392282957 %\n",
            "\terror =  0.24635722458252343\n",
            "348.8745980707395 %\n",
            "\terror =  0.2402873113551671\n",
            "373.7942122186495 %\n",
            "\terror =  0.2313365837774392\n",
            "398.7138263665595 %\n",
            "\terror =  0.22776519424364086\n",
            "Epoch :  5\n",
            "423.6334405144695 %\n",
            "\terror =  0.2236774271381104\n",
            "448.5530546623794 %\n",
            "\terror =  0.2206277941285563\n",
            "473.4726688102894 %\n",
            "\terror =  0.21445080980442455\n",
            "498.3922829581994 %\n",
            "\terror =  0.2121302128242908\n",
            "Epoch :  6\n",
            "523.3118971061093 %\n",
            "\terror =  0.20967415366230385\n",
            "548.2315112540193 %\n",
            "\terror =  0.20761720617054538\n",
            "573.1511254019293 %\n",
            "\terror =  0.203154769872546\n",
            "598.0707395498392 %\n",
            "\terror =  0.2016018324007779\n",
            "Epoch :  7\n",
            "622.9903536977492 %\n",
            "\terror =  0.1999181032021723\n",
            "647.9099678456591 %\n",
            "\terror =  0.19844812248387797\n",
            "672.8295819935691 %\n",
            "\terror =  0.19499849308120956\n",
            "697.749196141479 %\n",
            "\terror =  0.19390156672224299\n",
            "Epoch :  8\n",
            "722.6688102893891 %\n",
            "\terror =  0.1926807543826634\n",
            "747.588424437299 %\n",
            "\terror =  0.19162787533826348\n",
            "772.508038585209 %\n",
            "\terror =  0.18878884807062013\n",
            "797.427652733119 %\n",
            "\terror =  0.18800498920897293\n",
            "Epoch :  9\n",
            "822.347266881029 %\n",
            "\terror =  0.18708474368143785\n",
            "847.266881028939 %\n",
            "\terror =  0.1862015402097276\n",
            "872.1864951768488 %\n",
            "\terror =  0.18393130483219888\n",
            "897.1061093247588 %\n",
            "\terror =  0.1833394210880484\n",
            "Epoch :  10\n",
            "922.0257234726688 %\n",
            "\terror =  0.18247419131974402\n",
            "946.9453376205788 %\n",
            "\terror =  0.1818679024248366\n",
            "971.8649517684888 %\n",
            "\terror =  0.18000181536938423\n",
            "996.7845659163988 %\n",
            "\terror =  0.179412600324027\n"
          ]
        }
      ]
    },
    {
      "cell_type": "markdown",
      "metadata": {
        "id": "FaXgbcaZrxPB"
      },
      "source": [
        "###Checking the accuracy of the model\n",
        "learning rate = 0.1\n"
      ]
    },
    {
      "cell_type": "code",
      "metadata": {
        "colab": {
          "base_uri": "https://localhost:8080/"
        },
        "id": "ioRhlAARoPpU",
        "outputId": "c1dc16c7-eb2e-49a5-9eab-ab9034d6e3d4"
      },
      "source": [
        "count = 0\n",
        "correct = 0\n",
        "for row,label in zip(testing_inputs , testing_classes):\n",
        "  lst = list(label)\n",
        "  index = lst.index(max(lst))\n",
        "  value = net.predict(row)\n",
        "  count+=1\n",
        "  if index == value:\n",
        "    correct+=1\n",
        "print(\"Accuracy of the model : \" , correct/count*100)"
      ],
      "execution_count": 15,
      "outputs": [
        {
          "output_type": "stream",
          "name": "stdout",
          "text": [
            "Accuracy of the model :  77.88461538461539\n"
          ]
        }
      ]
    },
    {
      "cell_type": "markdown",
      "metadata": {
        "id": "PWVQ9NKXrarx"
      },
      "source": [
        "##Neural Network with learning rate 0.01\n",
        "This is a 3 layer Network"
      ]
    },
    {
      "cell_type": "code",
      "metadata": {
        "id": "koZpegGcp6GA"
      },
      "source": [
        "net2 = NeuralNet(4,2,0.01)"
      ],
      "execution_count": 16,
      "outputs": []
    },
    {
      "cell_type": "markdown",
      "metadata": {
        "id": "vQwfCh8Trrv2"
      },
      "source": [
        "###Training the neural Network"
      ]
    },
    {
      "cell_type": "code",
      "metadata": {
        "colab": {
          "base_uri": "https://localhost:8080/"
        },
        "id": "n9HAOimArhj2",
        "outputId": "20c0c553-7ac9-484e-a64c-af898696430a"
      },
      "source": [
        "size = training_inputs.shape[0]\n",
        "error = 0\n",
        "count = 0\n",
        "lmt = size//4\n",
        "epochs = 10\n",
        "for epoch in range(epochs):\n",
        "  print(\"Epoch : \" , epoch+1)\n",
        "  for row,label in zip(training_inputs , training_classes):\n",
        "    net2.learn(row , label)\n",
        "    error += net2.error\n",
        "    count+=1\n",
        "    if count%lmt==0:\n",
        "      print(count/size*100 , '%')\n",
        "      print(\"\\terror = \",error/count)\n",
        "\n"
      ],
      "execution_count": 17,
      "outputs": [
        {
          "output_type": "stream",
          "name": "stdout",
          "text": [
            "Epoch :  1\n",
            "24.919614147909968 %\n",
            "\terror =  0.4484474810441062\n",
            "49.839228295819936 %\n",
            "\terror =  0.4187063397962759\n",
            "74.7588424437299 %\n",
            "\terror =  0.4089126056414229\n",
            "99.67845659163987 %\n",
            "\terror =  0.39238299424305456\n",
            "Epoch :  2\n",
            "124.59807073954985 %\n",
            "\terror =  0.3845270884470666\n",
            "149.5176848874598 %\n",
            "\terror =  0.37998819052663796\n",
            "174.43729903536976 %\n",
            "\terror =  0.375753665353778\n",
            "199.35691318327974 %\n",
            "\terror =  0.3698458422399756\n",
            "Epoch :  3\n",
            "224.2765273311897 %\n",
            "\terror =  0.36697641486607235\n",
            "249.1961414790997 %\n",
            "\terror =  0.3646538837996347\n",
            "274.11575562700966 %\n",
            "\terror =  0.3627257993481385\n",
            "299.0353697749196 %\n",
            "\terror =  0.3598928989569437\n",
            "Epoch :  4\n",
            "323.95498392282957 %\n",
            "\terror =  0.3581602126613841\n",
            "348.8745980707395 %\n",
            "\terror =  0.3565198966310553\n",
            "373.7942122186495 %\n",
            "\terror =  0.3552361768364237\n",
            "398.7138263665595 %\n",
            "\terror =  0.35368329028409445\n",
            "Epoch :  5\n",
            "423.6334405144695 %\n",
            "\terror =  0.3523283579207624\n",
            "448.5530546623794 %\n",
            "\terror =  0.3513375499647282\n",
            "473.4726688102894 %\n",
            "\terror =  0.35060492533137544\n",
            "498.3922829581994 %\n",
            "\terror =  0.3492156692547777\n",
            "Epoch :  6\n",
            "523.3118971061093 %\n",
            "\terror =  0.348346596729543\n",
            "548.2315112540193 %\n",
            "\terror =  0.3475700703951748\n",
            "573.1511254019293 %\n",
            "\terror =  0.3469751149968275\n",
            "598.0707395498392 %\n",
            "\terror =  0.3457878698104794\n",
            "Epoch :  7\n",
            "622.9903536977492 %\n",
            "\terror =  0.34534853292806356\n",
            "647.9099678456591 %\n",
            "\terror =  0.3444913865784857\n",
            "672.8295819935691 %\n",
            "\terror =  0.3439476389120656\n",
            "697.749196141479 %\n",
            "\terror =  0.3432362094299714\n",
            "Epoch :  8\n",
            "722.6688102893891 %\n",
            "\terror =  0.34285044441983104\n",
            "747.588424437299 %\n",
            "\terror =  0.34198023733402366\n",
            "772.508038585209 %\n",
            "\terror =  0.34151926955288736\n",
            "797.427652733119 %\n",
            "\terror =  0.34085467076865655\n",
            "Epoch :  9\n",
            "822.347266881029 %\n",
            "\terror =  0.3405917724071435\n",
            "847.266881028939 %\n",
            "\terror =  0.3397664206166751\n",
            "872.1864951768488 %\n",
            "\terror =  0.3394038896747786\n",
            "897.1061093247588 %\n",
            "\terror =  0.3389294021367395\n",
            "Epoch :  10\n",
            "922.0257234726688 %\n",
            "\terror =  0.3385302453758549\n",
            "946.9453376205788 %\n",
            "\terror =  0.3377886966161862\n",
            "971.8649517684888 %\n",
            "\terror =  0.3375543366189823\n",
            "996.7845659163988 %\n",
            "\terror =  0.33702819393866507\n"
          ]
        }
      ]
    },
    {
      "cell_type": "markdown",
      "metadata": {
        "id": "S_18xsN8r3yD"
      },
      "source": [
        "###Checking the accuracy of model\n",
        "learning rate = 0.01"
      ]
    },
    {
      "cell_type": "code",
      "metadata": {
        "colab": {
          "base_uri": "https://localhost:8080/"
        },
        "id": "TKF2MHEprv5Y",
        "outputId": "caa9516c-3a05-48ce-b5f4-e9697437e3ea"
      },
      "source": [
        "count = 0\n",
        "correct = 0\n",
        "for row,label in zip(testing_inputs , testing_classes):\n",
        "  lst = list(label)\n",
        "  index = lst.index(max(lst))\n",
        "  value = net2.predict(row)\n",
        "  count+=1\n",
        "  if index == value:\n",
        "    correct+=1\n",
        "print(\"Accuracy of the model : \" , correct/count*100)"
      ],
      "execution_count": 18,
      "outputs": [
        {
          "output_type": "stream",
          "name": "stdout",
          "text": [
            "Accuracy of the model :  57.21153846153846\n"
          ]
        }
      ]
    },
    {
      "cell_type": "markdown",
      "metadata": {
        "id": "5xLcGiBDsKEK"
      },
      "source": [
        "##Neural Network with learning rate 0.3\n",
        "This is a 3 layer Network"
      ]
    },
    {
      "cell_type": "code",
      "metadata": {
        "id": "25lReLKqr7k7"
      },
      "source": [
        "net3 = NeuralNet(4 , 2 , 0.3)"
      ],
      "execution_count": 19,
      "outputs": []
    },
    {
      "cell_type": "markdown",
      "metadata": {
        "id": "KlE0vcUlsdq2"
      },
      "source": [
        "###Training the network"
      ]
    },
    {
      "cell_type": "code",
      "metadata": {
        "colab": {
          "base_uri": "https://localhost:8080/"
        },
        "id": "c-k2u2ctsTcz",
        "outputId": "3e2ab533-62ad-48d2-c08a-0a4258873df1"
      },
      "source": [
        "size = training_inputs.shape[0]\n",
        "error = 0\n",
        "count = 0\n",
        "lmt = size//4\n",
        "epochs = 10\n",
        "for epoch in range(epochs):\n",
        "  print(\"Epoch : \" , epoch+1)\n",
        "  for row,label in zip(training_inputs , training_classes):\n",
        "    net3.learn(row , label)\n",
        "    error += net3.error\n",
        "    count+=1\n",
        "    if count%lmt==0:\n",
        "      print(count/size*100 , '%')\n",
        "      print(\"\\terror = \",error/count)\n",
        "\n"
      ],
      "execution_count": 20,
      "outputs": [
        {
          "output_type": "stream",
          "name": "stdout",
          "text": [
            "Epoch :  1\n",
            "24.919614147909968 %\n",
            "\terror =  0.36405487692277777\n",
            "49.839228295819936 %\n",
            "\terror =  0.35555470122309746\n",
            "74.7588424437299 %\n",
            "\terror =  0.3363132915384887\n",
            "99.67845659163987 %\n",
            "\terror =  0.34155301291809004\n",
            "Epoch :  2\n",
            "124.59807073954985 %\n",
            "\terror =  0.34310272320172075\n",
            "149.5176848874598 %\n",
            "\terror =  0.3433185674614842\n",
            "174.43729903536976 %\n",
            "\terror =  0.33568981948658255\n",
            "199.35691318327974 %\n",
            "\terror =  0.3272192817843536\n",
            "Epoch :  3\n",
            "224.2765273311897 %\n",
            "\terror =  0.31213999202962267\n",
            "249.1961414790997 %\n",
            "\terror =  0.30105245894380755\n",
            "274.11575562700966 %\n",
            "\terror =  0.2834862590242351\n",
            "299.0353697749196 %\n",
            "\terror =  0.27657853729931464\n",
            "Epoch :  4\n",
            "323.95498392282957 %\n",
            "\terror =  0.27045789778371354\n",
            "348.8745980707395 %\n",
            "\terror =  0.2648502042051081\n",
            "373.7942122186495 %\n",
            "\terror =  0.25449642704536923\n",
            "398.7138263665595 %\n",
            "\terror =  0.2510449965548078\n",
            "Epoch :  5\n",
            "423.6334405144695 %\n",
            "\terror =  0.24693345733806735\n",
            "448.5530546623794 %\n",
            "\terror =  0.24412688179693187\n",
            "473.4726688102894 %\n",
            "\terror =  0.23695468537969808\n",
            "498.3922829581994 %\n",
            "\terror =  0.23454251601685533\n",
            "Epoch :  6\n",
            "523.3118971061093 %\n",
            "\terror =  0.23180882201501105\n",
            "548.2315112540193 %\n",
            "\terror =  0.22997980307570473\n",
            "573.1511254019293 %\n",
            "\terror =  0.2247628631849035\n",
            "598.0707395498392 %\n",
            "\terror =  0.2232114887666285\n",
            "Epoch :  7\n",
            "622.9903536977492 %\n",
            "\terror =  0.2212507587888211\n",
            "647.9099678456591 %\n",
            "\terror =  0.21998368568047771\n",
            "672.8295819935691 %\n",
            "\terror =  0.21598352598171253\n",
            "697.749196141479 %\n",
            "\terror =  0.21503942874312426\n",
            "Epoch :  8\n",
            "722.6688102893891 %\n",
            "\terror =  0.21351655200538194\n",
            "747.588424437299 %\n",
            "\terror =  0.21259375630793215\n",
            "772.508038585209 %\n",
            "\terror =  0.20937412410759856\n",
            "797.427652733119 %\n",
            "\terror =  0.20875995109846793\n",
            "Epoch :  9\n",
            "822.347266881029 %\n",
            "\terror =  0.20755263301463503\n",
            "847.266881028939 %\n",
            "\terror =  0.20682533260455496\n",
            "872.1864951768488 %\n",
            "\terror =  0.20420838827626842\n",
            "897.1061093247588 %\n",
            "\terror =  0.20380060823578677\n",
            "Epoch :  10\n",
            "922.0257234726688 %\n",
            "\terror =  0.20265458543095355\n",
            "946.9453376205788 %\n",
            "\terror =  0.20230146508852614\n",
            "971.8649517684888 %\n",
            "\terror =  0.20009038052773806\n",
            "996.7845659163988 %\n",
            "\terror =  0.19967672230179875\n"
          ]
        }
      ]
    },
    {
      "cell_type": "markdown",
      "metadata": {
        "id": "aPU5rrL_shVQ"
      },
      "source": [
        "###Checking the accuracy of the model\n",
        "learning rate = 0.3"
      ]
    },
    {
      "cell_type": "code",
      "metadata": {
        "colab": {
          "base_uri": "https://localhost:8080/"
        },
        "id": "3WhbDhbpscmI",
        "outputId": "7aaf288a-1727-455c-cdb7-e25f46078e6a"
      },
      "source": [
        "count = 0\n",
        "correct = 0\n",
        "for row,label in zip(testing_inputs , testing_classes):\n",
        "  lst = list(label)\n",
        "  index = lst.index(max(lst))\n",
        "  value = net3.predict(row)\n",
        "  count+=1\n",
        "  if index == value:\n",
        "    correct+=1\n",
        "print(\"Accuracy of the model : \" , correct/count*100)"
      ],
      "execution_count": 22,
      "outputs": [
        {
          "output_type": "stream",
          "name": "stdout",
          "text": [
            "Accuracy of the model :  77.40384615384616\n"
          ]
        }
      ]
    }
  ]
}